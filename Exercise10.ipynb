{
 "cells": [
  {
   "cell_type": "code",
   "execution_count": 1,
   "metadata": {},
   "outputs": [
    {
     "name": "stdout",
     "output_type": "stream",
     "text": [
      "Enter file:intro.txt\n",
      "the 226\n",
      "to 204\n",
      "a 165\n"
     ]
    }
   ],
   "source": [
    "fname = input('Enter file:')\n",
    "if len(fname) <1: fname = 'clown.txt'\n",
    "hand = open(fname)\n",
    "di = dict()\n",
    "for lin in hand:\n",
    "    lin = lin.rstrip()\n",
    "    wds = lin.split()   \n",
    "    for w in wds:\n",
    "        di[w]=di.get(w,0)+1\n",
    "x=list() \n",
    "x = sorted([(v,k)for k,v in di.items()],reverse = True)\n",
    "for v,k in x[:3]:\n",
    "    print(k,v)"
   ]
  },
  {
   "cell_type": "code",
   "execution_count": null,
   "metadata": {},
   "outputs": [],
   "source": []
  }
 ],
 "metadata": {
  "kernelspec": {
   "display_name": "Python 3",
   "language": "python",
   "name": "python3"
  },
  "language_info": {
   "codemirror_mode": {
    "name": "ipython",
    "version": 3
   },
   "file_extension": ".py",
   "mimetype": "text/x-python",
   "name": "python",
   "nbconvert_exporter": "python",
   "pygments_lexer": "ipython3",
   "version": "3.7.3"
  }
 },
 "nbformat": 4,
 "nbformat_minor": 2
}
